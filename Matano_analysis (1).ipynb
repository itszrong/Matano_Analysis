{
  "nbformat": 4,
  "nbformat_minor": 0,
  "metadata": {
    "colab": {
      "name": "Matano_analysis",
      "provenance": [],
      "collapsed_sections": []
    },
    "kernelspec": {
      "name": "python3",
      "display_name": "Python 3"
    },
    "language_info": {
      "name": "python"
    }
  },
  "cells": [
    {
      "cell_type": "markdown",
      "metadata": {
        "id": "QC19K8mX20c-"
      },
      "source": [
        "This code is designed to be used for matano analysis. The section below imports the data, fitting a polynomial to it and defining the area function. "
      ]
    },
    {
      "cell_type": "code",
      "metadata": {
        "colab": {
          "base_uri": "https://localhost:8080/",
          "height": 331
        },
        "id": "Mw7xgmJ7mZHR",
        "outputId": "0db60ef9-08e8-40e1-c67a-ca1d8b37103a"
      },
      "source": [
        "import numpy as np\n",
        "import math\n",
        "import matplotlib.pyplot as plt\n",
        "import sklearn\n",
        "from sklearn.model_selection import train_test_split\n",
        "from sklearn.ensemble import RandomForestRegressor\n",
        "from sklearn.metrics import r2_score\n",
        "from sklearn.metrics import mean_squared_error\n",
        "import numpy as np\n",
        "from sklearn.neural_network import MLPRegressor\n",
        "from sklearn.datasets import make_regression\n",
        "from sklearn.model_selection import train_test_split\n",
        "from sklearn.decomposition import PCA\n",
        "from IPython.display import display_html\n",
        "from sklearn.model_selection import GridSearchCV\n",
        "from sklearn.svm import SVR\n",
        "from sklearn.ensemble import GradientBoostingRegressor\n",
        "from sklearn.preprocessing import PolynomialFeatures\n",
        "from sklearn.pipeline import make_pipeline\n",
        "from sklearn.linear_model import LinearRegression\n",
        "from sklearn.gaussian_process import GaussianProcessRegressor\n",
        "\n",
        "#\n",
        "distance = 1e-6*np.asarray([1495, 1895, 2515, 3075, 3405, 3655, 3965, 4315, 4495, 4645, 4815, 5005])\n",
        "Zn_frac = np.asarray([29.1, 28.2, 27.9, 26.5, 25.0, 23.5, 20.6, 14.7, 8.8, 4.4, 1.5, 0.3])\n",
        "distance_grad = 1e-03*np.asarray([0.4000, 0.5100, 0.5900, 0.4450, 0.2900, 0.2800, 0.3300, 0.2650, 0.1650, 0.1600, 0.1800, 0.1900])\n",
        "Zn_frac_grad = np.asarray([-0.9,-0.6,-0.85,-1.45,-1.5,-2.2,-4.4,-5.9,-5.15,-3.65,-2.05,-1.2])\n",
        "int = 1e-6*np.linspace(1400, 5000, 500)\n",
        "dydx = distance_grad/Zn_frac_grad\n",
        "\n",
        "#training model\n",
        "Xtrain, Xtest, ytrain, ytest = train_test_split(x.reshape(12, 1), y.reshape(12, 1), train_size=0.75)  # split to train and test\n",
        "GB = GradientBoostingRegressor()\n",
        "SVR_model = SVR()\n",
        "MLP = MLPRegressor()\n",
        "GPR = GaussianProcessRegressor()\n",
        "degree=13\n",
        "polyreg=make_pipeline(PolynomialFeatures(degree),LinearRegression())\n",
        "\n",
        "reg = polyreg.fit(Xtrain,ytrain)\n",
        "y_pred = reg.predict(Xtest)  # predict values for ytest\n",
        "R2_RF = r2_score(ytest, y_pred)\n",
        "mse_RF = mean_squared_error(ytest, y_pred)\n",
        "RMSE_RF = np.sqrt(mse_RF)\n",
        "print('Metrics', R2_RF, mse_RF, RMSE_RF)\n",
        "predictions = reg.predict(int.reshape(len(int), 1))\n",
        "print('Predictions shape', predictions.shape)\n",
        "plt.plot(int, reg.predict(int.reshape(len(int), 1)))\n",
        "\n",
        "plt.title('Zn_frac against distance')\n",
        "plt.xlabel('distance')\n",
        "plt.ylabel('Zn_frac')\n",
        "plt.plot(distance, Zn_frac)\n",
        "plt.show()"
      ],
      "execution_count": 223,
      "outputs": [
        {
          "output_type": "stream",
          "name": "stdout",
          "text": [
            "Metrics 0.994639027877055 0.21666666666666712 0.4654746681256319\n",
            "Predictions shape (500, 1)\n"
          ]
        },
        {
          "output_type": "display_data",
          "data": {
            "image/png": "[encoded data removed]",
            "text/plain": [
              "<Figure size 432x288 with 1 Axes>"
            ]
          },
          "metadata": {
            "needs_background": "light"
          }
        }
      ]
    },
    {
      "cell_type": "markdown",
      "metadata": {
        "id": "Oq2cqBpB4hd8"
      },
      "source": [
        "Defining area calculation function (Simpson's Rule)"
      ]
    },
    {
      "cell_type": "code",
      "metadata": {
        "id": "K0623fEl4g77"
      },
      "source": [
        "def area_function(x, y, print_bool):\n",
        "    area = []\n",
        "    area_tot = []\n",
        "    for j in range(len(y)):\n",
        "        if j%100 == 0 and print_bool == 'yes':\n",
        "            print(j)\n",
        "        for i in range(j):\n",
        "            if i == j:\n",
        "                area.append((y[-i]/(i+1))*x[-i])\n",
        "            else:\n",
        "                if i == 0:\n",
        "                    area.append((y[-i]/(i+1))*(x[-i]))\n",
        "                if i%2 == 1:\n",
        "                    area.append((y[-i]/(i+1))*(4*x[-i]))\n",
        "                if i%2 == 0:\n",
        "                    area.append((y[-i]/(i+1))*(4*x[-i]))\n",
        "        area_tot.append(sum(area))\n",
        "    print('area is', area_tot)\n",
        "    return area_tot"
      ],
      "execution_count": 228,
      "outputs": []
    },
    {
      "cell_type": "markdown",
      "metadata": {
        "id": "9VIu99_83HkC"
      },
      "source": [
        "This section calculates the matano interface by finding the value that is closest to half the total area and the index of the value. "
      ]
    },
    {
      "cell_type": "code",
      "metadata": {
        "colab": {
          "base_uri": "https://localhost:8080/"
        },
        "id": "WhE5UrUfmpL2",
        "outputId": "1540bb84-7874-4533-e121-3b12dddc734a"
      },
      "source": [
        "area_tot = area_function(int, predictions, print_bool='yes')\n",
        "area_tot_half = area_tot-area_tot[-1]/2\n",
        "interface_index = []\n",
        "for i in range(len(area_tot_half)-1):\n",
        "    value = area_tot[i]+area_tot_half\n",
        "    if list(value.flatten())[0] < 1:\n",
        "        if list(value.flatten())[0] >-1:\n",
        "            interface_index.append(i)\n",
        "print(interface_index)\n",
        "print('interface', int[interface_index[0]])"
      ],
      "execution_count": 224,
      "outputs": [
        {
          "output_type": "stream",
          "name": "stdout",
          "text": [
            "0\n",
            "100\n",
            "200\n",
            "300\n",
            "400\n",
            "area is [0, array([0.203]), array([0.386]), array([0.56234295]), array([0.73868591]), array([0.90706349]), array([1.07212697]), array([1.23435393]), array([1.39162417]), array([1.54669464]), array([1.69978819]), array([1.85108717]), array([2.00074354]), array([2.1503999]), array([2.29865243]), array([2.44559663]), array([2.59131608]), array([2.73473352]), array([2.8770655]), array([3.01734385]), array([3.15664818]), array([3.29502623]), array([3.43340429]), array([3.57093913]), array([3.70847397]), array([3.84600881]), array([3.98280105]), array([4.1195933]), array([4.25638554]), array([4.39317779]), array([4.52997003]), array([4.66676228]), array([4.80355452]), array([4.94034677]), array([5.07770009]), array([5.21614185]), array([5.35458361]), array([5.49353861]), array([5.63299259]), array([5.77341746]), array([5.9147875]), array([6.05707824]), array([6.2002664]), array([6.34432976]), array([6.48967412]), array([6.63626909]), array([6.78408559]), array([6.93309581]), array([7.08327305]), array([7.23459175]), array([7.38702734]), array([7.54055621]), array([7.69551256]), array([7.85221686]), array([8.01063407]), array([8.17073041]), array([8.33247334]), array([8.49550839]), array([8.66012827]), array([8.82630366]), array([8.99431168]), array([9.16411945]), array([9.33569513]), array([9.50929745]), array([9.68460703]), array([9.86187467]), array([10.04106764]), array([10.22215419]), array([10.4051035]), array([10.58988564]), array([10.77672924]), array([10.96560199]), array([11.15647252]), array([11.3493103]), array([11.5443278]), array([11.74149252]), array([11.94077277]), array([12.1421377]), array([12.34555727]), array([12.55122722]), array([12.7591158]), array([12.96919207]), array([13.18142582]), array([13.39578758]), array([13.61245852]), array([13.83140773]), array([14.05260502]), array([14.2762226]), array([14.50202997]), array([14.72999894]), array([14.96048998]), array([15.19327971]), array([15.42833937]), array([15.66582764]), array([15.90571471]), array([16.14797136]), array([16.39256901]), array([16.63965758]), array([16.88920753]), array([17.14101618]), array([17.39522889]), array([17.65198761]), array([17.91109534]), array([18.17252535]), array([18.43641544]), array([18.70257588]), array([18.97114181]), array([19.24208671]), array([19.51538453]), array([19.79100972]), array([20.06893719]), array([20.34929414]), array([20.63190453]), array([20.91704186]), array([21.20453259]), array([21.49449779]), array([21.78676786]), array([22.0814617]), array([22.37855464]), array([22.67802239]), array([22.97997935]), array([23.28426376]), array([23.59085251]), array([23.89985711]), array([24.21125386]), array([24.52515109]), array([24.84139428]), array([25.15996084]), array([25.48082859]), array([25.80410228]), array([26.12975918]), array([26.45777692]), array([26.78813346]), array([27.12080709]), array([27.45577642]), array([27.7930204]), array([28.13251827]), array([28.47436711]), array([28.81854571]), array([29.16491772]), array([29.51346355]), array([29.8641639]), array([30.21711212]), array([30.57228847]), array([30.92967345]), array([31.28935733]), array([31.65121169]), array([32.01521784]), array([32.38135733]), array([32.74971774]), array([33.12028021]), array([33.49302616]), array([33.86793723]), array([34.2449953]), array([34.62418251]), array([35.0054812]), array([35.38897368]), array([35.77454302]), array([36.16227033]), array([36.55204077]), array([36.94393428]), array([37.33783799]), array([37.73383072]), array([38.13189576]), array([38.5320166]), array([38.93417693]), array([39.33836065]), array([39.74455182]), array([40.15282527]), array([40.56307491]), array([40.97528539]), array([41.38952995]), array([41.80579293]), array([42.22405882]), array([42.64431228]), array([43.06645241]), array([43.49055]), array([43.91650576]), array([44.3443057]), array([44.77401916]), array([45.20563182]), array([45.63912953]), array([46.07449827]), array([46.51164346]), array([46.95055198]), array([47.39129043]), array([47.83384542]), array([48.27812526]), array([48.72419525]), array([49.17204239]), array([49.62173056]), array([50.07317032]), array([50.5263491]), array([50.98125446]), array([51.4379486]), array([51.89641879]), array([52.35665244]), array([52.81863709]), array([53.28228795]), array([53.74766525]), array([54.21468545]), array([54.68340802]), array([55.1538211]), array([55.625843]), array([56.09946258]), array([56.5747378]), array([57.05165726]), array([57.53020966]), array([58.01038382]), array([58.49216869]), array([58.97555327]), array([59.46052672]), array([59.94701251]), array([60.43500043]), array([60.92454523]), array([61.41563645]), array([61.90826371]), array([62.40248033]), array([62.89827571]), array([63.39563933]), array([63.89443617]), array([64.39471864]), array([64.89647692]), array([65.39976239]), array([65.90450431]), array([66.41075342]), array([66.91849986]), array([67.42767436]), array([67.93832672]), array([68.45038862]), array([68.96385091]), array([69.47876251]), array([69.99505646]), array([70.51272386]), array([71.03175587]), array([71.55220024]), array([72.07404792]), array([72.59723418]), array([73.12175048]), array([73.64764342]), array([74.17484955]), array([74.70336055]), array([75.23316815]), array([75.76426418]), array([76.29664051]), array([76.83034211]), array([77.36536065]), array([77.90163553]), array([78.43921092]), array([78.97802699]), array([79.51812739]), array([80.05950413]), array([80.60214928]), array([81.1461054]), array([81.69126415]), array([82.2376679]), array([82.78530897]), array([83.33417973]), array([83.88427263]), array([84.43558016]), array([84.98804658]), array([85.54166481]), array([86.0964755]), array([86.65251877]), array([87.20978713]), array([87.76822629]), array([88.32782912]), array([88.88863484]), array([89.45063616]), array([90.01373443]), array([90.57796845]), array([91.14333137]), array([91.70981639]), array([92.27746137]), array([92.84621498]), array([93.41607059]), array([93.98702157]), array([94.55906137]), array([95.13222677]), array([95.70646802]), array([96.28177869]), array([96.85815241]), array([97.43562513]), array([98.01414828]), array([98.59371564]), array([99.17436252]), array([99.75604126]), array([100.33878677]), array([100.92259274]), array([101.50741237]), array([102.09327998]), array([102.68018938]), array([103.26813445]), array([103.85706948]), array([104.44702802]), array([105.03800406]), array([105.62995272]), array([106.22290698]), array([106.81682248]), array([107.41169361]), array([108.00755278]), array([108.6043942]), array([109.20221215]), array([109.80100092]), array([110.40075485]), array([111.00146832]), array([111.60313574]), array([112.20575155]), array([112.80931026]), array([113.41380636]), array([114.01923442]), array([114.62558904]), array([115.23286483]), array([115.84105645]), array([116.45015861]), array([117.0601312]), array([117.67103843]), array([118.28284047]), array([118.89553214]), array([119.50910832]), array([120.12356388]), array([120.73889376]), array([121.35512634]), array([121.97222316]), array([122.59021231]), array([123.20905577]), array([123.8287813]), array([124.44938381]), array([125.07082596]), array([125.69310291]), array([126.3162418]), array([126.94023765]), array([127.56508555]), array([128.19078059]), array([128.8172867]), array([129.44459924]), array([130.0727444]), array([130.70168673]), array([131.33145215]), array([131.96200562]), array([132.59337275]), array([133.22554887]), array([133.85852934]), array([134.49230953]), array([135.12685542]), array([135.76219188]), array([136.39831438]), array([137.03524735]), array([137.67295737]), array([138.31143997]), array([138.95069072]), array([139.5907335]), array([140.23153565]), array([140.87309279]), array([141.5154006]), array([142.15845477]), array([142.80225101]), array([143.44675774]), array([144.09199804]), array([144.73799471]), array([145.38471656]), array([146.03215941]), array([146.68031912]), array([147.32919156]), array([147.97879889]), array([148.62913688]), array([149.28020133]), array([149.93196225]), array([150.58444128]), array([151.23763429]), array([151.89153717]), array([152.54614583]), array([153.20143112]), array([153.85738916]), array([154.51401605]), array([155.17133258]), array([155.82931026]), array([156.48794527]), array([157.14725802]), array([157.8072446]), array([158.46787717]), array([159.129152]), array([159.79106536]), array([160.45361355]), array([161.11681626]), array([161.78066971]), array([162.44514699]), array([163.1102445]), array([163.77595861]), array([164.44230845]), array([165.10929032]), array([165.77690052]), array([166.44513541]), array([167.11396915]), array([167.78339824]), array([168.45344113]), array([169.12407244]), array([169.79531037]), array([170.46712985]), array([171.13954887]), array([171.81256392]), array([172.48615033]), array([173.16032577]), array([173.83506588]), array([174.5103881]), array([175.18628902]), array([175.86274467]), array([176.53977219]), array([177.21736821]), array([177.89550917]), array([178.57419184]), array([179.25341302]), array([179.93318933]), array([180.61349776]), array([181.29433514]), array([181.97569833]), array([182.65760353]), array([183.34002828]), array([184.0229886]), array([184.70646225]), array([185.39044617]), array([186.07495609]), array([186.75997015]), array([187.4455039]), array([188.1315542]), array([188.81809959]), array([189.50511887]), array([190.19262727]), array([190.88062184]), array([191.56909962]), array([192.25805768]), array([192.9474931]), array([193.63742054]), array([194.32780207]), array([195.01865227]), array([195.70998553]), array([196.40179888]), array([197.09407233]), array([197.78680306]), array([198.47998826]), array([199.1736251]), array([199.86769419]), array([200.56220937]), array([201.25716786]), array([201.95256693]), array([202.64840382]), array([203.34467581]), array([204.04136416]), array([204.73848219]), array([205.4360114]), array([206.13396491]), array([206.83232443]), array([207.53110294]), array([208.23029779]), array([208.92989101]), array([209.62989531]), array([210.33030808]), array([211.03112672]), array([211.73233371]), array([212.43392657]), array([213.13591756]), array([213.8382895]), array([214.54105448]), array([215.24419551]), array([215.94771016]), array([216.6516103]), array([217.35589342]), array([218.06055704]), array([218.76559867]), array([219.47102977]), array([220.17683395]), array([220.88300879]), array([221.58955183]), array([222.29644712]), array([223.00370577]), array([223.71132539]), array([224.41930357]), array([225.12765114]), array([225.83636561]), array([226.54544455]), array([227.2548855]), array([227.96467319]), array([228.6748053]), array([229.38527948]), array([230.09609343]), array([230.80724483]), array([231.5187438]), array([232.23058798]), array([232.94277499]), array([233.65530249]), array([234.3681802]), array([235.0814057]), array([235.7949766]), array([236.50889049]), array([237.22314499]), array([237.9377377]), array([238.65266628]), array([239.36792835]), array([240.08353298]), array([240.79946642])]\n",
            "[319, 320, 321, 322]\n",
            "interface 0.003701402805611222\n"
          ]
        },
        {
          "output_type": "stream",
          "name": "stderr",
          "text": [
            "/usr/local/lib/python3.7/dist-packages/ipykernel_launcher.py:2: VisibleDeprecationWarning: Creating an ndarray from ragged nested sequences (which is a list-or-tuple of lists-or-tuples-or ndarrays with different lengths or shapes) is deprecated. If you meant to do this, you must specify 'dtype=object' when creating the ndarray\n",
            "  \n"
          ]
        }
      ]
    },
    {
      "cell_type": "markdown",
      "metadata": {
        "id": "df_24YN63T1l"
      },
      "source": [
        "This section calculates the derivative of the distance w.r.t to the composition. "
      ]
    },
    {
      "cell_type": "code",
      "metadata": {
        "colab": {
          "base_uri": "https://localhost:8080/"
        },
        "id": "_EB112gCn453",
        "outputId": "1bb1b1e1-f9de-4684-b982-cb79a135eaa5"
      },
      "source": [
        "interval = 1e-6*np.linspace(1400, 5000, 1000)\n",
        "dydx = np.divide(np.gradient(int, axis=0).reshape(-1,1), np.gradient(predictions, axis=0))\n",
        "print(dydx.shape)"
      ],
      "execution_count": 225,
      "outputs": [
        {
          "output_type": "stream",
          "name": "stdout",
          "text": [
            "(500, 1)\n"
          ]
        },
        {
          "output_type": "stream",
          "name": "stderr",
          "text": [
            "/usr/local/lib/python3.7/dist-packages/ipykernel_launcher.py:2: RuntimeWarning: divide by zero encountered in true_divide\n",
            "  \n"
          ]
        }
      ]
    },
    {
      "cell_type": "markdown",
      "metadata": {
        "id": "eXiD5EmJ3a5R"
      },
      "source": [
        "This section picks out the index of the values closest to the composition percentage required. "
      ]
    },
    {
      "cell_type": "code",
      "metadata": {
        "colab": {
          "base_uri": "https://localhost:8080/"
        },
        "id": "XLdcC7GxtbSp",
        "outputId": "2c1ffc82-68d6-4f4d-9829-b196b451adb7"
      },
      "source": [
        "percentages = [5,10,15,20,25]\n",
        "\n",
        "index_percentages = []\n",
        "for j in range(len(percentages)):\n",
        "    index = []\n",
        "    for i in range(len(predictions)-1):\n",
        "        value = predictions[i]-percentages[j]\n",
        "        if list(value.flatten())[0] < 0.1:\n",
        "            if list(value.flatten())[0] >-0.1:\n",
        "                index.append(i)\n",
        "    print(index)\n",
        "    index_percentages.append(index[0])\n",
        "    print('percent', percentages[j], 'is', predictions[index[0]])\n",
        "print(index_percentages)"
      ],
      "execution_count": 226,
      "outputs": [
        {
          "output_type": "stream",
          "name": "stdout",
          "text": [
            "[442, 443, 445, 446, 447, 448]\n",
            "percent 5 is [5.]\n",
            "[418, 419, 420, 421, 422]\n",
            "percent 10 is [10.]\n",
            "[389, 391, 392, 393, 394, 395, 397, 400]\n",
            "percent 15 is [15.]\n",
            "[353, 354, 355, 357, 358, 359, 363, 364]\n",
            "percent 20 is [20.]\n",
            "[186, 202, 203, 205, 208, 212, 215, 217, 218, 220, 221, 222, 224, 225, 226, 227, 229, 230, 231, 235, 236, 239, 242, 243, 244, 245, 246, 249, 250, 251, 253, 255, 256, 262, 265, 266, 270, 273, 275, 276, 278, 282, 283, 284]\n",
            "percent 25 is [25.]\n",
            "[442, 418, 389, 353, 186]\n"
          ]
        }
      ]
    },
    {
      "cell_type": "markdown",
      "metadata": {
        "id": "LUgYiKsh3gY9"
      },
      "source": [
        "This final section calculates the diffusion coefficients for the percentages required. "
      ]
    },
    {
      "cell_type": "code",
      "metadata": {
        "colab": {
          "base_uri": "https://localhost:8080/"
        },
        "id": "hSjXf-FioEn5",
        "outputId": "3ca2c965-d1d4-440c-deea-b069bbe2e606"
      },
      "source": [
        "diffusion_coefficient = []\n",
        "for i in range(len(index_percentages)):\n",
        "    diffusion_coefficient.append(-(2*10*24*3600)**-1 * float(dydx[index_percentages[i]]) * float(np.flip(area_tot)[index_percentages[i]]))\n",
        "print(diffusion_coefficient)"
      ],
      "execution_count": 227,
      "outputs": [
        {
          "output_type": "stream",
          "name": "stdout",
          "text": [
            "[7.093777879739132e-11, 1.0829318693117028e-10, 1.6757629585392418e-10, 2.64288674759858e-10, 9.672766904807482e-10]\n"
          ]
        },
        {
          "output_type": "stream",
          "name": "stderr",
          "text": [
            "/usr/local/lib/python3.7/dist-packages/numpy/core/_asarray.py:83: VisibleDeprecationWarning: Creating an ndarray from ragged nested sequences (which is a list-or-tuple of lists-or-tuples-or ndarrays with different lengths or shapes) is deprecated. If you meant to do this, you must specify 'dtype=object' when creating the ndarray\n",
            "  return array(a, dtype, copy=False, order=order)\n"
          ]
        }
      ]
    }
  ]
}